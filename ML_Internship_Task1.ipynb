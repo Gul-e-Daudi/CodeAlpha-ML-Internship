{
  "nbformat": 4,
  "nbformat_minor": 0,
  "metadata": {
    "colab": {
      "provenance": []
    },
    "kernelspec": {
      "name": "python3",
      "display_name": "Python 3"
    },
    "language_info": {
      "name": "python"
    }
  },
  "cells": [
    {
      "cell_type": "code",
      "source": [
        "import pandas as pd\n",
        "\n",
        "from sklearn.model_selection import train_test_split\n",
        "from sklearn.impute import SimpleImputer\n",
        "from sklearn.preprocessing import StandardScaler, OneHotEncoder\n",
        "from sklearn.compose import ColumnTransformer\n",
        "from sklearn.pipeline import Pipeline\n",
        "from sklearn.ensemble import RandomForestClassifier\n",
        "from sklearn.preprocessing import FunctionTransformer\n",
        "from sklearn.metrics import classification_report, accuracy_score, confusion_matrix"
      ],
      "metadata": {
        "id": "3XRImL0RIP-q"
      },
      "execution_count": 8,
      "outputs": []
    },
    {
      "cell_type": "code",
      "source": [
        "train_data = pd.read_csv('CreditScore.csv')\n",
        "\n",
        "print(train_data.info())"
      ],
      "metadata": {
        "id": "N33aaMglI4Kh"
      },
      "execution_count": null,
      "outputs": []
    },
    {
      "cell_type": "code",
      "source": [
        "target_variable_name = 'Credit_Score'\n",
        "train_data[target_variable_name] = train_data[target_variable_name].apply(lambda x: 1 if x == 'Good' else 0)\n",
        "\n",
        "X = train_data.drop(target_variable_name, axis=1)\n",
        "y = train_data[target_variable_name]\n",
        "\n",
        "categorical_cols = [col for col in X.columns if X[col].dtype == \"object\"]\n",
        "numerical_cols = [col for col in X.columns if X[col].dtype in ['int64', 'float64']]"
      ],
      "metadata": {
        "id": "OjWrlEpjJ4Aw"
      },
      "execution_count": 10,
      "outputs": []
    },
    {
      "cell_type": "code",
      "source": [
        "numerical_transformer = Pipeline(steps=[\n",
        "    ('imputer', SimpleImputer(strategy='mean')),\n",
        "    ('scaler', StandardScaler())])\n",
        "\n",
        "categorical_transformer = Pipeline(steps=[\n",
        "    ('imputer', SimpleImputer(strategy='most_frequent')),\n",
        "    ('onehot', OneHotEncoder(handle_unknown='ignore'))])\n",
        "\n",
        "preprocessor = ColumnTransformer(\n",
        "    transformers=[\n",
        "        ('num', numerical_transformer, numerical_cols),\n",
        "        ('cat', categorical_transformer, categorical_cols)])\n",
        "\n",
        "categorical_transformer = Pipeline(steps=[\n",
        "    ('imputer', SimpleImputer(strategy='most_frequent')),\n",
        "    ('to_string', FunctionTransformer(lambda x: x.astype(str))),\n",
        "    ('onehot', OneHotEncoder(handle_unknown='ignore'))])\n",
        "\n",
        "for col in categorical_cols:\n",
        "    X[col] = X[col].astype(str)\n",
        "\n",
        "categorical_transformer = Pipeline(steps=[\n",
        "    ('imputer', SimpleImputer(strategy='constant', fill_value='missing')),\n",
        "    ('onehot', OneHotEncoder(handle_unknown='ignore'))\n",
        "])\n",
        "\n",
        "model = RandomForestClassifier(random_state=42)\n",
        "\n",
        "pipeline = Pipeline(steps=[('preprocessor', preprocessor),\n",
        "                           ('model', model)])"
      ],
      "metadata": {
        "id": "sczZ2LnGJ9cm"
      },
      "execution_count": 11,
      "outputs": []
    },
    {
      "cell_type": "code",
      "source": [
        "X_train, X_valid, y_train, y_valid = train_test_split(X, y, test_size=0.2, random_state=42)"
      ],
      "metadata": {
        "id": "XnHvB_30HgsE"
      },
      "execution_count": 12,
      "outputs": []
    },
    {
      "cell_type": "code",
      "source": [
        "pipeline.fit(X_train, y_train)"
      ],
      "metadata": {
        "colab": {
          "base_uri": "https://localhost:8080/",
          "height": 231
        },
        "id": "Q-eJtCFWR3zk",
        "outputId": "9864c357-4ddf-4b5d-de93-60c26fdadbee"
      },
      "execution_count": 13,
      "outputs": [
        {
          "output_type": "execute_result",
          "data": {
            "text/plain": [
              "Pipeline(steps=[('preprocessor',\n",
              "                 ColumnTransformer(transformers=[('num',\n",
              "                                                  Pipeline(steps=[('imputer',\n",
              "                                                                   SimpleImputer()),\n",
              "                                                                  ('scaler',\n",
              "                                                                   StandardScaler())]),\n",
              "                                                  ['Monthly_Inhand_Salary',\n",
              "                                                   'Num_Credit_Card',\n",
              "                                                   'Interest_Rate',\n",
              "                                                   'Delay_from_due_date',\n",
              "                                                   'Total_EMI_per_month']),\n",
              "                                                 ('cat',\n",
              "                                                  Pipeline(steps=[('imputer',\n",
              "                                                                   SimpleImputer(strategy='most_frequent')),\n",
              "                                                                  ('onehot',\n",
              "                                                                   OneHotEncoder(h...\n",
              "                                                   'Annual_Income',\n",
              "                                                   'Num_Bank_Accounts',\n",
              "                                                   'Num_of_Loan',\n",
              "                                                   'Type_of_Loan',\n",
              "                                                   'Num_of_Delayed_Payment',\n",
              "                                                   'Changed_Credit_Limit',\n",
              "                                                   'Num_Credit_Inquiries',\n",
              "                                                   'Credit_Mix',\n",
              "                                                   'Outstanding_Debt',\n",
              "                                                   'Credit_Utilization_Ratio',\n",
              "                                                   'Credit_History_Age',\n",
              "                                                   'Payment_of_Min_Amount',\n",
              "                                                   'Amount_invested_monthly',\n",
              "                                                   'Payment_Behaviour',\n",
              "                                                   'Monthly_Balance'])])),\n",
              "                ('model', RandomForestClassifier(random_state=42))])"
            ],
            "text/html": [
              "<style>#sk-container-id-2 {color: black;background-color: white;}#sk-container-id-2 pre{padding: 0;}#sk-container-id-2 div.sk-toggleable {background-color: white;}#sk-container-id-2 label.sk-toggleable__label {cursor: pointer;display: block;width: 100%;margin-bottom: 0;padding: 0.3em;box-sizing: border-box;text-align: center;}#sk-container-id-2 label.sk-toggleable__label-arrow:before {content: \"▸\";float: left;margin-right: 0.25em;color: #696969;}#sk-container-id-2 label.sk-toggleable__label-arrow:hover:before {color: black;}#sk-container-id-2 div.sk-estimator:hover label.sk-toggleable__label-arrow:before {color: black;}#sk-container-id-2 div.sk-toggleable__content {max-height: 0;max-width: 0;overflow: hidden;text-align: left;background-color: #f0f8ff;}#sk-container-id-2 div.sk-toggleable__content pre {margin: 0.2em;color: black;border-radius: 0.25em;background-color: #f0f8ff;}#sk-container-id-2 input.sk-toggleable__control:checked~div.sk-toggleable__content {max-height: 200px;max-width: 100%;overflow: auto;}#sk-container-id-2 input.sk-toggleable__control:checked~label.sk-toggleable__label-arrow:before {content: \"▾\";}#sk-container-id-2 div.sk-estimator input.sk-toggleable__control:checked~label.sk-toggleable__label {background-color: #d4ebff;}#sk-container-id-2 div.sk-label input.sk-toggleable__control:checked~label.sk-toggleable__label {background-color: #d4ebff;}#sk-container-id-2 input.sk-hidden--visually {border: 0;clip: rect(1px 1px 1px 1px);clip: rect(1px, 1px, 1px, 1px);height: 1px;margin: -1px;overflow: hidden;padding: 0;position: absolute;width: 1px;}#sk-container-id-2 div.sk-estimator {font-family: monospace;background-color: #f0f8ff;border: 1px dotted black;border-radius: 0.25em;box-sizing: border-box;margin-bottom: 0.5em;}#sk-container-id-2 div.sk-estimator:hover {background-color: #d4ebff;}#sk-container-id-2 div.sk-parallel-item::after {content: \"\";width: 100%;border-bottom: 1px solid gray;flex-grow: 1;}#sk-container-id-2 div.sk-label:hover label.sk-toggleable__label {background-color: #d4ebff;}#sk-container-id-2 div.sk-serial::before {content: \"\";position: absolute;border-left: 1px solid gray;box-sizing: border-box;top: 0;bottom: 0;left: 50%;z-index: 0;}#sk-container-id-2 div.sk-serial {display: flex;flex-direction: column;align-items: center;background-color: white;padding-right: 0.2em;padding-left: 0.2em;position: relative;}#sk-container-id-2 div.sk-item {position: relative;z-index: 1;}#sk-container-id-2 div.sk-parallel {display: flex;align-items: stretch;justify-content: center;background-color: white;position: relative;}#sk-container-id-2 div.sk-item::before, #sk-container-id-2 div.sk-parallel-item::before {content: \"\";position: absolute;border-left: 1px solid gray;box-sizing: border-box;top: 0;bottom: 0;left: 50%;z-index: -1;}#sk-container-id-2 div.sk-parallel-item {display: flex;flex-direction: column;z-index: 1;position: relative;background-color: white;}#sk-container-id-2 div.sk-parallel-item:first-child::after {align-self: flex-end;width: 50%;}#sk-container-id-2 div.sk-parallel-item:last-child::after {align-self: flex-start;width: 50%;}#sk-container-id-2 div.sk-parallel-item:only-child::after {width: 0;}#sk-container-id-2 div.sk-dashed-wrapped {border: 1px dashed gray;margin: 0 0.4em 0.5em 0.4em;box-sizing: border-box;padding-bottom: 0.4em;background-color: white;}#sk-container-id-2 div.sk-label label {font-family: monospace;font-weight: bold;display: inline-block;line-height: 1.2em;}#sk-container-id-2 div.sk-label-container {text-align: center;}#sk-container-id-2 div.sk-container {/* jupyter's `normalize.less` sets `[hidden] { display: none; }` but bootstrap.min.css set `[hidden] { display: none !important; }` so we also need the `!important` here to be able to override the default hidden behavior on the sphinx rendered scikit-learn.org. See: https://github.com/scikit-learn/scikit-learn/issues/21755 */display: inline-block !important;position: relative;}#sk-container-id-2 div.sk-text-repr-fallback {display: none;}</style><div id=\"sk-container-id-2\" class=\"sk-top-container\"><div class=\"sk-text-repr-fallback\"><pre>Pipeline(steps=[(&#x27;preprocessor&#x27;,\n",
              "                 ColumnTransformer(transformers=[(&#x27;num&#x27;,\n",
              "                                                  Pipeline(steps=[(&#x27;imputer&#x27;,\n",
              "                                                                   SimpleImputer()),\n",
              "                                                                  (&#x27;scaler&#x27;,\n",
              "                                                                   StandardScaler())]),\n",
              "                                                  [&#x27;Monthly_Inhand_Salary&#x27;,\n",
              "                                                   &#x27;Num_Credit_Card&#x27;,\n",
              "                                                   &#x27;Interest_Rate&#x27;,\n",
              "                                                   &#x27;Delay_from_due_date&#x27;,\n",
              "                                                   &#x27;Total_EMI_per_month&#x27;]),\n",
              "                                                 (&#x27;cat&#x27;,\n",
              "                                                  Pipeline(steps=[(&#x27;imputer&#x27;,\n",
              "                                                                   SimpleImputer(strategy=&#x27;most_frequent&#x27;)),\n",
              "                                                                  (&#x27;onehot&#x27;,\n",
              "                                                                   OneHotEncoder(h...\n",
              "                                                   &#x27;Annual_Income&#x27;,\n",
              "                                                   &#x27;Num_Bank_Accounts&#x27;,\n",
              "                                                   &#x27;Num_of_Loan&#x27;,\n",
              "                                                   &#x27;Type_of_Loan&#x27;,\n",
              "                                                   &#x27;Num_of_Delayed_Payment&#x27;,\n",
              "                                                   &#x27;Changed_Credit_Limit&#x27;,\n",
              "                                                   &#x27;Num_Credit_Inquiries&#x27;,\n",
              "                                                   &#x27;Credit_Mix&#x27;,\n",
              "                                                   &#x27;Outstanding_Debt&#x27;,\n",
              "                                                   &#x27;Credit_Utilization_Ratio&#x27;,\n",
              "                                                   &#x27;Credit_History_Age&#x27;,\n",
              "                                                   &#x27;Payment_of_Min_Amount&#x27;,\n",
              "                                                   &#x27;Amount_invested_monthly&#x27;,\n",
              "                                                   &#x27;Payment_Behaviour&#x27;,\n",
              "                                                   &#x27;Monthly_Balance&#x27;])])),\n",
              "                (&#x27;model&#x27;, RandomForestClassifier(random_state=42))])</pre><b>In a Jupyter environment, please rerun this cell to show the HTML representation or trust the notebook. <br />On GitHub, the HTML representation is unable to render, please try loading this page with nbviewer.org.</b></div><div class=\"sk-container\" hidden><div class=\"sk-item sk-dashed-wrapped\"><div class=\"sk-label-container\"><div class=\"sk-label sk-toggleable\"><input class=\"sk-toggleable__control sk-hidden--visually\" id=\"sk-estimator-id-10\" type=\"checkbox\" ><label for=\"sk-estimator-id-10\" class=\"sk-toggleable__label sk-toggleable__label-arrow\">Pipeline</label><div class=\"sk-toggleable__content\"><pre>Pipeline(steps=[(&#x27;preprocessor&#x27;,\n",
              "                 ColumnTransformer(transformers=[(&#x27;num&#x27;,\n",
              "                                                  Pipeline(steps=[(&#x27;imputer&#x27;,\n",
              "                                                                   SimpleImputer()),\n",
              "                                                                  (&#x27;scaler&#x27;,\n",
              "                                                                   StandardScaler())]),\n",
              "                                                  [&#x27;Monthly_Inhand_Salary&#x27;,\n",
              "                                                   &#x27;Num_Credit_Card&#x27;,\n",
              "                                                   &#x27;Interest_Rate&#x27;,\n",
              "                                                   &#x27;Delay_from_due_date&#x27;,\n",
              "                                                   &#x27;Total_EMI_per_month&#x27;]),\n",
              "                                                 (&#x27;cat&#x27;,\n",
              "                                                  Pipeline(steps=[(&#x27;imputer&#x27;,\n",
              "                                                                   SimpleImputer(strategy=&#x27;most_frequent&#x27;)),\n",
              "                                                                  (&#x27;onehot&#x27;,\n",
              "                                                                   OneHotEncoder(h...\n",
              "                                                   &#x27;Annual_Income&#x27;,\n",
              "                                                   &#x27;Num_Bank_Accounts&#x27;,\n",
              "                                                   &#x27;Num_of_Loan&#x27;,\n",
              "                                                   &#x27;Type_of_Loan&#x27;,\n",
              "                                                   &#x27;Num_of_Delayed_Payment&#x27;,\n",
              "                                                   &#x27;Changed_Credit_Limit&#x27;,\n",
              "                                                   &#x27;Num_Credit_Inquiries&#x27;,\n",
              "                                                   &#x27;Credit_Mix&#x27;,\n",
              "                                                   &#x27;Outstanding_Debt&#x27;,\n",
              "                                                   &#x27;Credit_Utilization_Ratio&#x27;,\n",
              "                                                   &#x27;Credit_History_Age&#x27;,\n",
              "                                                   &#x27;Payment_of_Min_Amount&#x27;,\n",
              "                                                   &#x27;Amount_invested_monthly&#x27;,\n",
              "                                                   &#x27;Payment_Behaviour&#x27;,\n",
              "                                                   &#x27;Monthly_Balance&#x27;])])),\n",
              "                (&#x27;model&#x27;, RandomForestClassifier(random_state=42))])</pre></div></div></div><div class=\"sk-serial\"><div class=\"sk-item sk-dashed-wrapped\"><div class=\"sk-label-container\"><div class=\"sk-label sk-toggleable\"><input class=\"sk-toggleable__control sk-hidden--visually\" id=\"sk-estimator-id-11\" type=\"checkbox\" ><label for=\"sk-estimator-id-11\" class=\"sk-toggleable__label sk-toggleable__label-arrow\">preprocessor: ColumnTransformer</label><div class=\"sk-toggleable__content\"><pre>ColumnTransformer(transformers=[(&#x27;num&#x27;,\n",
              "                                 Pipeline(steps=[(&#x27;imputer&#x27;, SimpleImputer()),\n",
              "                                                 (&#x27;scaler&#x27;, StandardScaler())]),\n",
              "                                 [&#x27;Monthly_Inhand_Salary&#x27;, &#x27;Num_Credit_Card&#x27;,\n",
              "                                  &#x27;Interest_Rate&#x27;, &#x27;Delay_from_due_date&#x27;,\n",
              "                                  &#x27;Total_EMI_per_month&#x27;]),\n",
              "                                (&#x27;cat&#x27;,\n",
              "                                 Pipeline(steps=[(&#x27;imputer&#x27;,\n",
              "                                                  SimpleImputer(strategy=&#x27;most_frequent&#x27;)),\n",
              "                                                 (&#x27;onehot&#x27;,\n",
              "                                                  OneHotEncoder(handle_unknown=&#x27;ignore&#x27;))]),\n",
              "                                 [&#x27;ID&#x27;...D&#x27;, &#x27;Month&#x27;, &#x27;Name&#x27;, &#x27;Age&#x27;,\n",
              "                                  &#x27;SSN&#x27;, &#x27;Occupation&#x27;, &#x27;Annual_Income&#x27;,\n",
              "                                  &#x27;Num_Bank_Accounts&#x27;, &#x27;Num_of_Loan&#x27;,\n",
              "                                  &#x27;Type_of_Loan&#x27;, &#x27;Num_of_Delayed_Payment&#x27;,\n",
              "                                  &#x27;Changed_Credit_Limit&#x27;,\n",
              "                                  &#x27;Num_Credit_Inquiries&#x27;, &#x27;Credit_Mix&#x27;,\n",
              "                                  &#x27;Outstanding_Debt&#x27;,\n",
              "                                  &#x27;Credit_Utilization_Ratio&#x27;,\n",
              "                                  &#x27;Credit_History_Age&#x27;, &#x27;Payment_of_Min_Amount&#x27;,\n",
              "                                  &#x27;Amount_invested_monthly&#x27;,\n",
              "                                  &#x27;Payment_Behaviour&#x27;, &#x27;Monthly_Balance&#x27;])])</pre></div></div></div><div class=\"sk-parallel\"><div class=\"sk-parallel-item\"><div class=\"sk-item\"><div class=\"sk-label-container\"><div class=\"sk-label sk-toggleable\"><input class=\"sk-toggleable__control sk-hidden--visually\" id=\"sk-estimator-id-12\" type=\"checkbox\" ><label for=\"sk-estimator-id-12\" class=\"sk-toggleable__label sk-toggleable__label-arrow\">num</label><div class=\"sk-toggleable__content\"><pre>[&#x27;Monthly_Inhand_Salary&#x27;, &#x27;Num_Credit_Card&#x27;, &#x27;Interest_Rate&#x27;, &#x27;Delay_from_due_date&#x27;, &#x27;Total_EMI_per_month&#x27;]</pre></div></div></div><div class=\"sk-serial\"><div class=\"sk-item\"><div class=\"sk-serial\"><div class=\"sk-item\"><div class=\"sk-estimator sk-toggleable\"><input class=\"sk-toggleable__control sk-hidden--visually\" id=\"sk-estimator-id-13\" type=\"checkbox\" ><label for=\"sk-estimator-id-13\" class=\"sk-toggleable__label sk-toggleable__label-arrow\">SimpleImputer</label><div class=\"sk-toggleable__content\"><pre>SimpleImputer()</pre></div></div></div><div class=\"sk-item\"><div class=\"sk-estimator sk-toggleable\"><input class=\"sk-toggleable__control sk-hidden--visually\" id=\"sk-estimator-id-14\" type=\"checkbox\" ><label for=\"sk-estimator-id-14\" class=\"sk-toggleable__label sk-toggleable__label-arrow\">StandardScaler</label><div class=\"sk-toggleable__content\"><pre>StandardScaler()</pre></div></div></div></div></div></div></div></div><div class=\"sk-parallel-item\"><div class=\"sk-item\"><div class=\"sk-label-container\"><div class=\"sk-label sk-toggleable\"><input class=\"sk-toggleable__control sk-hidden--visually\" id=\"sk-estimator-id-15\" type=\"checkbox\" ><label for=\"sk-estimator-id-15\" class=\"sk-toggleable__label sk-toggleable__label-arrow\">cat</label><div class=\"sk-toggleable__content\"><pre>[&#x27;ID&#x27;, &#x27;Customer_ID&#x27;, &#x27;Month&#x27;, &#x27;Name&#x27;, &#x27;Age&#x27;, &#x27;SSN&#x27;, &#x27;Occupation&#x27;, &#x27;Annual_Income&#x27;, &#x27;Num_Bank_Accounts&#x27;, &#x27;Num_of_Loan&#x27;, &#x27;Type_of_Loan&#x27;, &#x27;Num_of_Delayed_Payment&#x27;, &#x27;Changed_Credit_Limit&#x27;, &#x27;Num_Credit_Inquiries&#x27;, &#x27;Credit_Mix&#x27;, &#x27;Outstanding_Debt&#x27;, &#x27;Credit_Utilization_Ratio&#x27;, &#x27;Credit_History_Age&#x27;, &#x27;Payment_of_Min_Amount&#x27;, &#x27;Amount_invested_monthly&#x27;, &#x27;Payment_Behaviour&#x27;, &#x27;Monthly_Balance&#x27;]</pre></div></div></div><div class=\"sk-serial\"><div class=\"sk-item\"><div class=\"sk-serial\"><div class=\"sk-item\"><div class=\"sk-estimator sk-toggleable\"><input class=\"sk-toggleable__control sk-hidden--visually\" id=\"sk-estimator-id-16\" type=\"checkbox\" ><label for=\"sk-estimator-id-16\" class=\"sk-toggleable__label sk-toggleable__label-arrow\">SimpleImputer</label><div class=\"sk-toggleable__content\"><pre>SimpleImputer(strategy=&#x27;most_frequent&#x27;)</pre></div></div></div><div class=\"sk-item\"><div class=\"sk-estimator sk-toggleable\"><input class=\"sk-toggleable__control sk-hidden--visually\" id=\"sk-estimator-id-17\" type=\"checkbox\" ><label for=\"sk-estimator-id-17\" class=\"sk-toggleable__label sk-toggleable__label-arrow\">OneHotEncoder</label><div class=\"sk-toggleable__content\"><pre>OneHotEncoder(handle_unknown=&#x27;ignore&#x27;)</pre></div></div></div></div></div></div></div></div></div></div><div class=\"sk-item\"><div class=\"sk-estimator sk-toggleable\"><input class=\"sk-toggleable__control sk-hidden--visually\" id=\"sk-estimator-id-18\" type=\"checkbox\" ><label for=\"sk-estimator-id-18\" class=\"sk-toggleable__label sk-toggleable__label-arrow\">RandomForestClassifier</label><div class=\"sk-toggleable__content\"><pre>RandomForestClassifier(random_state=42)</pre></div></div></div></div></div></div></div>"
            ]
          },
          "metadata": {},
          "execution_count": 13
        }
      ]
    },
    {
      "cell_type": "code",
      "source": [
        "y_pred = pipeline.predict(X_valid)\n",
        "\n",
        "accuracy = accuracy_score(y_valid, y_pred)\n",
        "print(f'Accuracy: {accuracy}')\n",
        "print(classification_report(y_valid, y_pred))"
      ],
      "metadata": {
        "colab": {
          "base_uri": "https://localhost:8080/"
        },
        "id": "324uvYuJMJFU",
        "outputId": "10d2e480-2bc8-454f-c5cd-65f4ce742458"
      },
      "execution_count": 14,
      "outputs": [
        {
          "output_type": "stream",
          "name": "stdout",
          "text": [
            "Accuracy: 0.8892827513387134\n",
            "              precision    recall  f1-score   support\n",
            "\n",
            "           0       0.90      0.98      0.94     10865\n",
            "           1       0.83      0.49      0.61      2394\n",
            "\n",
            "    accuracy                           0.89     13259\n",
            "   macro avg       0.86      0.73      0.77     13259\n",
            "weighted avg       0.88      0.89      0.88     13259\n",
            "\n"
          ]
        }
      ]
    }
  ]
}